{
 "cells": [
  {
   "cell_type": "markdown",
   "metadata": {},
   "source": [
    "# Logistic Regression"
   ]
  },
  {
   "cell_type": "code",
   "execution_count": 1,
   "metadata": {
    "collapsed": true
   },
   "outputs": [],
   "source": [
    "import numpy as np\n",
    "import pandas as pd\n",
    "import matplotlib.pyplot as plt\n",
    "\n",
    "%matplotlib inline"
   ]
  },
  {
   "cell_type": "code",
   "execution_count": 2,
   "metadata": {
    "collapsed": true
   },
   "outputs": [],
   "source": [
    "data = pd.read_csv(\"ex2data1.txt\", sep=\",\", header=None, names=[\"Exam1\",\"Exam2\", \"Admitted\"])"
   ]
  },
  {
   "cell_type": "code",
   "execution_count": 3,
   "metadata": {},
   "outputs": [
    {
     "data": {
      "text/html": [
       "<div>\n",
       "<style>\n",
       "    .dataframe thead tr:only-child th {\n",
       "        text-align: right;\n",
       "    }\n",
       "\n",
       "    .dataframe thead th {\n",
       "        text-align: left;\n",
       "    }\n",
       "\n",
       "    .dataframe tbody tr th {\n",
       "        vertical-align: top;\n",
       "    }\n",
       "</style>\n",
       "<table border=\"1\" class=\"dataframe\">\n",
       "  <thead>\n",
       "    <tr style=\"text-align: right;\">\n",
       "      <th></th>\n",
       "      <th>Exam1</th>\n",
       "      <th>Exam2</th>\n",
       "      <th>Admitted</th>\n",
       "    </tr>\n",
       "  </thead>\n",
       "  <tbody>\n",
       "    <tr>\n",
       "      <th>0</th>\n",
       "      <td>34.623660</td>\n",
       "      <td>78.024693</td>\n",
       "      <td>0</td>\n",
       "    </tr>\n",
       "    <tr>\n",
       "      <th>1</th>\n",
       "      <td>30.286711</td>\n",
       "      <td>43.894998</td>\n",
       "      <td>0</td>\n",
       "    </tr>\n",
       "    <tr>\n",
       "      <th>2</th>\n",
       "      <td>35.847409</td>\n",
       "      <td>72.902198</td>\n",
       "      <td>0</td>\n",
       "    </tr>\n",
       "    <tr>\n",
       "      <th>3</th>\n",
       "      <td>60.182599</td>\n",
       "      <td>86.308552</td>\n",
       "      <td>1</td>\n",
       "    </tr>\n",
       "    <tr>\n",
       "      <th>4</th>\n",
       "      <td>79.032736</td>\n",
       "      <td>75.344376</td>\n",
       "      <td>1</td>\n",
       "    </tr>\n",
       "  </tbody>\n",
       "</table>\n",
       "</div>"
      ],
      "text/plain": [
       "       Exam1      Exam2  Admitted\n",
       "0  34.623660  78.024693         0\n",
       "1  30.286711  43.894998         0\n",
       "2  35.847409  72.902198         0\n",
       "3  60.182599  86.308552         1\n",
       "4  79.032736  75.344376         1"
      ]
     },
     "execution_count": 3,
     "metadata": {},
     "output_type": "execute_result"
    }
   ],
   "source": [
    "data.head()"
   ]
  },
  {
   "cell_type": "code",
   "execution_count": 4,
   "metadata": {
    "collapsed": true
   },
   "outputs": [],
   "source": [
    "# convert pandas dataframe to numpy matrix and split our data in X and y matrices\n",
    "data_matrix = data.as_matrix()\n",
    "X = data_matrix[:,0:2]\n",
    "X = np.insert(X,0,np.ones(len(X)),axis=1) # insert column of ones for theta(0) vectorization\n",
    "y = data_matrix[:,-1]"
   ]
  },
  {
   "cell_type": "code",
   "execution_count": 5,
   "metadata": {
    "collapsed": true
   },
   "outputs": [],
   "source": [
    "y = y.reshape((len(y),1))"
   ]
  },
  {
   "cell_type": "code",
   "execution_count": 6,
   "metadata": {},
   "outputs": [],
   "source": [
    "# split our data into positive and negative cases\n",
    "# add value from X at index i (until length of X) to the array \"pos\" if the y-value at the same index is equal to 1\n",
    "pos = np.array([X[i] for i in range(X.shape[0]) if y[i] == 1])\n",
    "neg = np.array([X[i] for i in range(X.shape[0]) if y[i] == 0])"
   ]
  },
  {
   "cell_type": "code",
   "execution_count": 7,
   "metadata": {},
   "outputs": [
    {
     "data": {
      "image/png": "[encoded data removed]",
      "text/plain": [
       "<matplotlib.figure.Figure at 0x10ff9b6a0>"
      ]
     },
     "metadata": {},
     "output_type": "display_data"
    }
   ],
   "source": [
    "def plotData():\n",
    "    plt.figure(figsize=(10,6))\n",
    "    plt.plot(pos[:,1],pos[:,2],'k+',label='Admitted')\n",
    "    plt.plot(neg[:,1],neg[:,2],'yo',label='Not admitted')\n",
    "    plt.xlabel('Exam 1 score')\n",
    "    plt.ylabel('Exam 2 score')\n",
    "    plt.legend()\n",
    "    plt.grid(True)\n",
    "    \n",
    "plotData()"
   ]
  },
  {
   "cell_type": "markdown",
   "metadata": {},
   "source": [
    "# Sigmoid Hypothesis\n",
    "\n",
    "<font size=\"5\">\n",
    "\\begin{align}\n",
    "h_\\theta(x^{(i)})=g(\\theta^Tx) \\\\\n",
    "g(z)=\\frac{1}{1+e^{-z}}\n",
    "\\end{align}\n",
    "</font>"
   ]
  },
  {
   "cell_type": "code",
   "execution_count": 8,
   "metadata": {},
   "outputs": [],
   "source": [
    "# define our sigmoid hypothesis\n",
    "def sigmoid(x):\n",
    "    return 1/(1+np.exp(-1*x))"
   ]
  },
  {
   "cell_type": "code",
   "execution_count": 9,
   "metadata": {
    "scrolled": true
   },
   "outputs": [
    {
     "data": {
      "text/plain": [
       "matrix([[ 0.73105858,  0.88079708],\n",
       "        [ 0.95257413,  0.5       ]])"
      ]
     },
     "execution_count": 9,
     "metadata": {},
     "output_type": "execute_result"
    }
   ],
   "source": [
    "# check whether our hypothesis is calculating correctly on matrices (note: sigmoid of 0 has to be 0.5)\n",
    "sigmoid(np.matrix(\"1 2; 3 0\"))"
   ]
  },
  {
   "cell_type": "code",
   "execution_count": 10,
   "metadata": {},
   "outputs": [
    {
     "data": {
      "text/plain": [
       "<matplotlib.text.Text at 0x11326a908>"
      ]
     },
     "execution_count": 10,
     "metadata": {},
     "output_type": "execute_result"
    },
    {
     "data": {
      "image/png": "[encoded data removed]",
      "text/plain": [
       "<matplotlib.figure.Figure at 0x10ff9b710>"
      ]
     },
     "metadata": {},
     "output_type": "display_data"
    }
   ],
   "source": [
    "# Plot our sigmoid function to check whether hypothesis is working correctly\n",
    "x_axis = np.arange(-10,10,0.1)\n",
    "plt.axvline(0, c=\"black\", linewidth=1, alpha=0.5)\n",
    "plt.axhline(1, c=\"black\", linewidth=1.5, alpha=0.5)\n",
    "plt.axhline(0, c=\"black\", linewidth=1.5, alpha=0.5)\n",
    "plt.plot(x_axis, sigmoid(x_axis))\n",
    "plt.grid(True)\n",
    "plt.title(\"Looks like a sigmoid function!\")"
   ]
  },
  {
   "cell_type": "markdown",
   "metadata": {},
   "source": [
    "## Cost Function\n",
    "<font size=\"5\">\n",
    "\\begin{align}\n",
    "J(\\theta)=\\frac{1}{m}\\sum_{i=1}^m[-y^{(i)}log(h_\\theta(x^{(i)}))-(1-y^{(i)})log(1-h_\\theta(x^{(i)}))]\n",
    "\\end{align}\n",
    "</font>"
   ]
  },
  {
   "cell_type": "markdown",
   "metadata": {},
   "source": [
    "## Gradient\n",
    "<font size=\"5\">\n",
    "\\begin{align}\n",
    "\\frac{\\partial J(\\theta)}{\\partial\\theta_j}=\\frac{1}{m}\\sum_{i=1}^m(h_\\theta(x^{(i)})-y^{(i)})x_j^{(i)}\n",
    "\\end{align}\n",
    "</font>"
   ]
  },
  {
   "cell_type": "code",
   "execution_count": 11,
   "metadata": {},
   "outputs": [
    {
     "name": "stdout",
     "output_type": "stream",
     "text": [
      "Shape of Matrix X:  (100, 3)\n",
      "Shape of Matrix y:  (100, 1)\n"
     ]
    }
   ],
   "source": [
    "print(\"Shape of Matrix X: \", np.shape(X))\n",
    "print(\"Shape of Matrix y: \", np.shape(y))"
   ]
  },
  {
   "cell_type": "code",
   "execution_count": 12,
   "metadata": {
    "collapsed": true
   },
   "outputs": [],
   "source": [
    "# define our cost function J for non-regularized use cases\n",
    "def costFunction(theta,X,y):\n",
    "    m = len(y)\n",
    "    J = (1/m)*sum(np.dot(-y.T, np.log(sigmoid(np.dot(X,theta))))-np.dot((1-y).T,np.log(1-sigmoid(np.dot(X,theta)))))\n",
    "    return J"
   ]
  },
  {
   "cell_type": "code",
   "execution_count": 13,
   "metadata": {
    "collapsed": true
   },
   "outputs": [],
   "source": [
    "# we define our gradient function separately since python optimizer functions do not need the gradient in order to do their magic!\n",
    "def gradientFunction(theta, X,y):\n",
    "    m = len(y)\n",
    "    return 1/m * (np.dot((sigmoid(np.dot(X,theta))-y).T,X)).T;"
   ]
  },
  {
   "cell_type": "code",
   "execution_count": 14,
   "metadata": {
    "collapsed": true
   },
   "outputs": [],
   "source": [
    "(m,n) = np.shape(X)"
   ]
  },
  {
   "cell_type": "code",
   "execution_count": 15,
   "metadata": {},
   "outputs": [],
   "source": [
    "# set our initial theta values to 0\n",
    "initial_theta = np.zeros((n,1))"
   ]
  },
  {
   "cell_type": "code",
   "execution_count": 16,
   "metadata": {},
   "outputs": [
    {
     "data": {
      "text/plain": [
       "array([ 0.69314718])"
      ]
     },
     "execution_count": 16,
     "metadata": {},
     "output_type": "execute_result"
    }
   ],
   "source": [
    "# calculate our cost with initial thetas all 0\n",
    "costFunction(initial_theta,X,y)"
   ]
  },
  {
   "cell_type": "code",
   "execution_count": 17,
   "metadata": {
    "collapsed": true
   },
   "outputs": [],
   "source": [
    "# we can use the fmin function from scipy.optimize as an alternative for Octave's fminunc!\n",
    "from scipy.optimize import fmin"
   ]
  },
  {
   "cell_type": "code",
   "execution_count": 18,
   "metadata": {},
   "outputs": [],
   "source": [
    "# note that scipy.optimize.fmin does not require a gradient! Only our cost function is required as input.\n",
    "def optimizeTheta(theta, X,y,numIterations):\n",
    "    result = fmin(costFunction, x0=theta, args=(X,y), maxiter=numIterations, full_output=True)\n",
    "    return result[0].reshape(len(result[0]),1), result[1]"
   ]
  },
  {
   "cell_type": "code",
   "execution_count": 19,
   "metadata": {},
   "outputs": [
    {
     "name": "stdout",
     "output_type": "stream",
     "text": [
      "Optimization terminated successfully.\n",
      "         Current function value: 0.203498\n",
      "         Iterations: 157\n",
      "         Function evaluations: 287\n"
     ]
    }
   ],
   "source": [
    "theta, mincost = optimizeTheta(initial_theta,X,y,400)"
   ]
  },
  {
   "cell_type": "code",
   "execution_count": 20,
   "metadata": {},
   "outputs": [
    {
     "data": {
      "text/plain": [
       "array([[-25.16130062],\n",
       "       [  0.20623142],\n",
       "       [  0.20147143]])"
      ]
     },
     "execution_count": 20,
     "metadata": {},
     "output_type": "execute_result"
    }
   ],
   "source": [
    "theta"
   ]
  },
  {
   "cell_type": "code",
   "execution_count": 21,
   "metadata": {},
   "outputs": [
    {
     "data": {
      "text/plain": [
       "array([ 0.2034977])"
      ]
     },
     "execution_count": 21,
     "metadata": {},
     "output_type": "execute_result"
    }
   ],
   "source": [
    "# calculate our new cost function with optimized theta values\n",
    "costFunction(theta,X,y)"
   ]
  },
  {
   "cell_type": "code",
   "execution_count": 22,
   "metadata": {
    "collapsed": true
   },
   "outputs": [],
   "source": [
    "# We need to classify a student with a score of 45 in Exam 1 and 85 in Exam 2\n",
    "testStudent = np.matrix((\"1, 45, 85\")) # we expect a probability of 77.6 Percent"
   ]
  },
  {
   "cell_type": "code",
   "execution_count": 23,
   "metadata": {
    "collapsed": true
   },
   "outputs": [],
   "source": [
    "def predictProbability(newX):\n",
    "    return sigmoid(np.dot(newX, theta))"
   ]
  },
  {
   "cell_type": "code",
   "execution_count": 24,
   "metadata": {
    "collapsed": true
   },
   "outputs": [],
   "source": [
    "def predictAdmission(newX):\n",
    "    return 1 if predictProbability(newX) >= 0.5 else 0"
   ]
  },
  {
   "cell_type": "code",
   "execution_count": 25,
   "metadata": {},
   "outputs": [
    {
     "data": {
      "text/plain": [
       "1"
      ]
     },
     "execution_count": 25,
     "metadata": {},
     "output_type": "execute_result"
    }
   ],
   "source": [
    "predictAdmission(np.matrix((\"1, 45,85\")))"
   ]
  },
  {
   "cell_type": "markdown",
   "metadata": {},
   "source": [
    "## Decision Boundary"
   ]
  },
  {
   "cell_type": "code",
   "execution_count": 26,
   "metadata": {},
   "outputs": [
    {
     "data": {
      "text/plain": [
       "<matplotlib.legend.Legend at 0x1146aed68>"
      ]
     },
     "execution_count": 26,
     "metadata": {},
     "output_type": "execute_result"
    },
    {
     "data": {
      "image/png": "[encoded data removed]",
      "text/plain": [
       "<matplotlib.figure.Figure at 0x1132aea58>"
      ]
     },
     "metadata": {},
     "output_type": "display_data"
    }
   ],
   "source": [
    "boundary_x = np.array([np.min(X[:,1]), np.max(X[:,1])])\n",
    "boundary_y = (-1./theta[2])*(theta[0]+theta[1]*boundary_x)\n",
    "plotData()\n",
    "plt.plot(boundary_x,boundary_y,'b-',label='Decision Boundary')\n",
    "plt.legend()"
   ]
  },
  {
   "cell_type": "markdown",
   "metadata": {},
   "source": [
    "# Regularization: Microchip Testing"
   ]
  },
  {
   "cell_type": "code",
   "execution_count": 27,
   "metadata": {
    "collapsed": true
   },
   "outputs": [],
   "source": [
    "data2 = pd.read_csv(\"ex2data2.txt\", sep=\",\", header=None, names=[\"Test1\",\"Test2\", \"Accepted\"])"
   ]
  },
  {
   "cell_type": "code",
   "execution_count": 28,
   "metadata": {},
   "outputs": [
    {
     "data": {
      "text/html": [
       "<div>\n",
       "<style>\n",
       "    .dataframe thead tr:only-child th {\n",
       "        text-align: right;\n",
       "    }\n",
       "\n",
       "    .dataframe thead th {\n",
       "        text-align: left;\n",
       "    }\n",
       "\n",
       "    .dataframe tbody tr th {\n",
       "        vertical-align: top;\n",
       "    }\n",
       "</style>\n",
       "<table border=\"1\" class=\"dataframe\">\n",
       "  <thead>\n",
       "    <tr style=\"text-align: right;\">\n",
       "      <th></th>\n",
       "      <th>Test1</th>\n",
       "      <th>Test2</th>\n",
       "      <th>Accepted</th>\n",
       "    </tr>\n",
       "  </thead>\n",
       "  <tbody>\n",
       "    <tr>\n",
       "      <th>0</th>\n",
       "      <td>0.051267</td>\n",
       "      <td>0.69956</td>\n",
       "      <td>1</td>\n",
       "    </tr>\n",
       "    <tr>\n",
       "      <th>1</th>\n",
       "      <td>-0.092742</td>\n",
       "      <td>0.68494</td>\n",
       "      <td>1</td>\n",
       "    </tr>\n",
       "    <tr>\n",
       "      <th>2</th>\n",
       "      <td>-0.213710</td>\n",
       "      <td>0.69225</td>\n",
       "      <td>1</td>\n",
       "    </tr>\n",
       "    <tr>\n",
       "      <th>3</th>\n",
       "      <td>-0.375000</td>\n",
       "      <td>0.50219</td>\n",
       "      <td>1</td>\n",
       "    </tr>\n",
       "    <tr>\n",
       "      <th>4</th>\n",
       "      <td>-0.513250</td>\n",
       "      <td>0.46564</td>\n",
       "      <td>1</td>\n",
       "    </tr>\n",
       "  </tbody>\n",
       "</table>\n",
       "</div>"
      ],
      "text/plain": [
       "      Test1    Test2  Accepted\n",
       "0  0.051267  0.69956         1\n",
       "1 -0.092742  0.68494         1\n",
       "2 -0.213710  0.69225         1\n",
       "3 -0.375000  0.50219         1\n",
       "4 -0.513250  0.46564         1"
      ]
     },
     "execution_count": 28,
     "metadata": {},
     "output_type": "execute_result"
    }
   ],
   "source": [
    "data2.head()"
   ]
  },
  {
   "cell_type": "code",
   "execution_count": 29,
   "metadata": {
    "collapsed": true
   },
   "outputs": [],
   "source": [
    "data2_matrix = data2.as_matrix()\n",
    "X = data2_matrix[:,0:2]\n",
    "X = np.insert(X,0,np.ones(len(X)),axis=1)\n",
    "y = data2_matrix[:,-1].reshape(len(data2_matrix),1)"
   ]
  },
  {
   "cell_type": "code",
   "execution_count": 30,
   "metadata": {},
   "outputs": [],
   "source": [
    "pos = np.array([X[i] for i in range(X.shape[0]) if y[i] == 1])\n",
    "neg = np.array([X[i] for i in range(X.shape[0]) if y[i] == 0])"
   ]
  },
  {
   "cell_type": "code",
   "execution_count": 31,
   "metadata": {},
   "outputs": [
    {
     "data": {
      "text/plain": [
       "True"
      ]
     },
     "execution_count": 31,
     "metadata": {},
     "output_type": "execute_result"
    }
   ],
   "source": [
    "# check whether all elements have been classified into either 1 or 0\n",
    "len(pos) + len(neg) == X.shape[0]"
   ]
  },
  {
   "cell_type": "code",
   "execution_count": 32,
   "metadata": {},
   "outputs": [
    {
     "data": {
      "image/png": "[encoded data removed]",
      "text/plain": [
       "<matplotlib.figure.Figure at 0x1146e0e80>"
      ]
     },
     "metadata": {},
     "output_type": "display_data"
    }
   ],
   "source": [
    "def plotData2():\n",
    "    plt.plot(pos[:,1],pos[:,2],'k+',label='Accepted')\n",
    "    plt.plot(neg[:,1],neg[:,2],'yo',label='Rejected')\n",
    "    plt.xlabel('Microchip Test 1')\n",
    "    plt.ylabel('Microchip Test 2')\n",
    "    plt.legend()\n",
    "    plt.grid(True)\n",
    "\n",
    "plt.figure(figsize=(6,6))\n",
    "plotData2()"
   ]
  },
  {
   "cell_type": "code",
   "execution_count": 33,
   "metadata": {},
   "outputs": [
    {
     "name": "stdout",
     "output_type": "stream",
     "text": [
      "Shape of Matrix X:  (118, 3)\n",
      "Shape of Matrix y:  (118, 1)\n"
     ]
    }
   ],
   "source": [
    "print(\"Shape of Matrix X: \", np.shape(X))\n",
    "print(\"Shape of Matrix y: \", np.shape(y))"
   ]
  },
  {
   "cell_type": "code",
   "execution_count": 34,
   "metadata": {},
   "outputs": [],
   "source": [
    "#This code I took from someone else (the OCTAVE equivalent was provided in the HW)\n",
    "def mapFeature( x1col, x2col ):\n",
    "    \"\"\" \n",
    "    Function that takes in a column of n- x1's, a column of n- x2s, and builds\n",
    "    a n- x 28-dim matrix of featuers as described in the homework assignment\n",
    "    \"\"\"\n",
    "    degrees = 6\n",
    "    out = np.ones( (x1col.shape[0], 1) )\n",
    "\n",
    "    for i in range(1, degrees+1):\n",
    "        for j in range(0, i+1):\n",
    "            term1 = x1col ** (i-j)\n",
    "            term2 = x2col ** (j)\n",
    "            term  = (term1 * term2).reshape( term1.shape[0], 1 ) \n",
    "            out   = np.hstack(( out, term ))\n",
    "    return out"
   ]
  },
  {
   "cell_type": "code",
   "execution_count": 35,
   "metadata": {},
   "outputs": [],
   "source": [
    "#Create feature-mapped X matrix\n",
    "mappedX = mapFeature(X[:,1],X[:,2])"
   ]
  },
  {
   "cell_type": "code",
   "execution_count": 36,
   "metadata": {},
   "outputs": [
    {
     "data": {
      "text/plain": [
       "(118, 28)"
      ]
     },
     "execution_count": 36,
     "metadata": {},
     "output_type": "execute_result"
    }
   ],
   "source": [
    "# we now have 28 parameters instead of 3!\n",
    "mappedX.shape"
   ]
  },
  {
   "cell_type": "markdown",
   "metadata": {},
   "source": [
    "## Regularized Cost Function\n",
    "<font size=\"5\">\n",
    "\\begin{align}\n",
    "J(\\theta)=\\frac{1}{m}\\sum_{i=1}^m[-y^{(i)}log(h_\\theta(x^{(i)}))-(1-y^{(i)})log(1-h_\\theta(x^{(i)}))]+\\frac{\\lambda}{2m}\\sum_{j=1}^n\\theta_j^2\n",
    "\\end{align}\n",
    "</font>"
   ]
  },
  {
   "cell_type": "markdown",
   "metadata": {},
   "source": [
    "## Regularized Gradient\n",
    "<font size=\"5\">\n",
    "\\begin{align}\n",
    "\\frac{\\partial J(\\theta)}{\\partial\\theta_j}=[\\frac{1}{m}\\sum_{i=1}^m(h_\\theta(x^{(i)})-y^{(i)})x_j^{(i)}] + \\frac{\\lambda}{m}\\sum_{j=1}^n\\theta_j^2\n",
    "\\end{align}\n",
    "</font>"
   ]
  },
  {
   "cell_type": "code",
   "execution_count": 37,
   "metadata": {
    "collapsed": true
   },
   "outputs": [],
   "source": [
    "def costFunctionReg(theta, X,y, lmda):\n",
    "    m = len(y)\n",
    "    reg = (lmda/(2*m))*np.sum(theta[1:]**2)\n",
    "    J = (1/m)*sum(np.dot(-y.T, np.log(sigmoid(np.dot(X,theta))))-np.dot((1-y).T, np.log(1-sigmoid(np.dot(X, theta)))))\n",
    "    return J + reg"
   ]
  },
  {
   "cell_type": "code",
   "execution_count": 38,
   "metadata": {},
   "outputs": [],
   "source": [
    "initial_theta = np.zeros((mappedX.shape[1],1))"
   ]
  },
  {
   "cell_type": "code",
   "execution_count": 39,
   "metadata": {},
   "outputs": [
    {
     "data": {
      "text/plain": [
       "array([ 0.69314718])"
      ]
     },
     "execution_count": 39,
     "metadata": {},
     "output_type": "execute_result"
    }
   ],
   "source": [
    "costFunctionReg(initial_theta, mappedX,y,11)"
   ]
  },
  {
   "cell_type": "code",
   "execution_count": 40,
   "metadata": {},
   "outputs": [],
   "source": [
    "def gradientFunctionReg(theta, X,y, lmda):\n",
    "    m = len(y)\n",
    "    mask = np.ones(theta.shape) # create our mask matrix which is the identity matrix with a 0 in the first value\n",
    "    mask[0] = 0\n",
    "    \n",
    "    # Our mask is used because we only want regularization for values theta(1) to theta(n), excluding theta(0)\n",
    "    # by multiplying the theta vector times our mask, we exclude the first theta (by multiplying times 0)!\n",
    "    return 1/m * (np.dot((sigmoid(np.dot(X,theta))-y).T,X)).T + (lmda/m)*(theta**mask)"
   ]
  },
  {
   "cell_type": "code",
   "execution_count": 41,
   "metadata": {},
   "outputs": [
    {
     "data": {
      "text/plain": [
       "array([[  1.69491525e-02],\n",
       "       [  1.87880932e-02],\n",
       "       [  7.77711864e-05],\n",
       "       [  5.03446395e-02],\n",
       "       [  1.15013308e-02],\n",
       "       [  3.76648474e-02],\n",
       "       [  1.83559872e-02],\n",
       "       [  7.32393391e-03],\n",
       "       [  8.19244468e-03],\n",
       "       [  2.34764889e-02],\n",
       "       [  3.93486234e-02],\n",
       "       [  2.23923907e-03],\n",
       "       [  1.28600503e-02],\n",
       "       [  3.09593720e-03],\n",
       "       [  3.93028171e-02],\n",
       "       [  1.99707467e-02],\n",
       "       [  4.32983232e-03],\n",
       "       [  3.38643902e-03],\n",
       "       [  5.83822078e-03],\n",
       "       [  4.47629067e-03],\n",
       "       [  3.10079849e-02],\n",
       "       [  3.10312442e-02],\n",
       "       [  1.09740238e-03],\n",
       "       [  6.31570797e-03],\n",
       "       [  4.08503006e-04],\n",
       "       [  7.26504316e-03],\n",
       "       [  1.37646175e-03],\n",
       "       [  3.87936363e-02]])"
      ]
     },
     "execution_count": 41,
     "metadata": {},
     "output_type": "execute_result"
    }
   ],
   "source": [
    "gradientFunctionReg(initial_theta,mappedX,y,1)"
   ]
  },
  {
   "cell_type": "code",
   "execution_count": 42,
   "metadata": {},
   "outputs": [],
   "source": [
    "test_theta = np.ones((mappedX.shape[1],1))"
   ]
  },
  {
   "cell_type": "markdown",
   "metadata": {},
   "source": [
    "### Note that fmin does not converge because the maximum number of iterations is exceeded!\n",
    "#### Because of this, we try another optimization alternative down below."
   ]
  },
  {
   "cell_type": "code",
   "execution_count": 43,
   "metadata": {
    "collapsed": true
   },
   "outputs": [],
   "source": [
    "def optimizeThetaReg(theta, X,y,numIterations, lmda):\n",
    "    result = fmin(costFunctionReg, x0=theta, args=(X,y, lmda), maxiter=numIterations, full_output=True)\n",
    "    return result[0].reshape(len(result[0]),1), result[1]"
   ]
  },
  {
   "cell_type": "code",
   "execution_count": 44,
   "metadata": {},
   "outputs": [
    {
     "name": "stdout",
     "output_type": "stream",
     "text": [
      "Warning: Maximum number of iterations has been exceeded.\n"
     ]
    },
    {
     "data": {
      "text/plain": [
       "(array([[-0.32638409],\n",
       "        [ 0.45413572],\n",
       "        [ 0.52921638],\n",
       "        [ 0.67656455],\n",
       "        [ 1.10205257],\n",
       "        [ 0.49916194],\n",
       "        [ 1.04995117],\n",
       "        [ 1.30000987],\n",
       "        [ 1.20634262],\n",
       "        [ 0.71903228],\n",
       "        [ 0.80387966],\n",
       "        [ 1.04006545],\n",
       "        [ 1.01204858],\n",
       "        [ 1.43620859],\n",
       "        [ 0.70678853],\n",
       "        [ 1.11169828],\n",
       "        [ 0.99737694],\n",
       "        [ 1.14430095],\n",
       "        [ 1.49957973],\n",
       "        [ 1.17479367],\n",
       "        [ 0.76774039],\n",
       "        [ 1.07258512],\n",
       "        [ 1.37678798],\n",
       "        [ 1.34427654],\n",
       "        [ 0.60306806],\n",
       "        [ 1.1879283 ],\n",
       "        [ 1.38700727],\n",
       "        [ 1.34384662]]), 2.7764354593461511)"
      ]
     },
     "execution_count": 44,
     "metadata": {},
     "output_type": "execute_result"
    }
   ],
   "source": [
    "lmda = 10\n",
    "optimizeThetaReg(test_theta, mappedX,y,400, lmda)"
   ]
  },
  {
   "cell_type": "code",
   "execution_count": 45,
   "metadata": {},
   "outputs": [
    {
     "data": {
      "text/plain": [
       "array([ 3.16450933])"
      ]
     },
     "execution_count": 45,
     "metadata": {},
     "output_type": "execute_result"
    }
   ],
   "source": [
    "costFunctionReg(test_theta,mappedX,y, 10)"
   ]
  },
  {
   "cell_type": "markdown",
   "metadata": {},
   "source": [
    "### Minimize Theta using scipy.optimize.minimize with BFGS instead of .fmin"
   ]
  },
  {
   "cell_type": "code",
   "execution_count": 46,
   "metadata": {
    "collapsed": true
   },
   "outputs": [],
   "source": [
    "from scipy.optimize import minimize\n",
    "\n",
    "def minimizeThetaReg(theta, X,y, lmda, numIterations):\n",
    "    result = minimize(costFunctionReg, x0=theta, args=(X,y,lmda),method='BFGS', \n",
    "                      options={'gtol': 1e-6, 'disp': False, 'maxiter': numIterations})\n",
    "    return result.x.reshape(theta.shape)"
   ]
  },
  {
   "cell_type": "code",
   "execution_count": 47,
   "metadata": {
    "scrolled": true
   },
   "outputs": [],
   "source": [
    "new_theta = minimizeThetaReg(test_theta,mappedX,y,lmda, 500)"
   ]
  },
  {
   "cell_type": "code",
   "execution_count": 48,
   "metadata": {},
   "outputs": [
    {
     "data": {
      "text/plain": [
       "array([[ 0.32617798],\n",
       "       [-0.00815051],\n",
       "       [ 0.16579781],\n",
       "       [-0.44671766],\n",
       "       [-0.11177282],\n",
       "       [-0.27891811],\n",
       "       [-0.0714527 ],\n",
       "       [-0.05788866],\n",
       "       [-0.06509923],\n",
       "       [-0.10637054],\n",
       "       [-0.33672837],\n",
       "       [-0.01297412],\n",
       "       [-0.11670717],\n",
       "       [-0.02809856],\n",
       "       [-0.28602713],\n",
       "       [-0.11614829],\n",
       "       [-0.0370459 ],\n",
       "       [-0.02242344],\n",
       "       [-0.04886602],\n",
       "       [-0.04163201],\n",
       "       [-0.18675738],\n",
       "       [-0.25333871],\n",
       "       [-0.00291335],\n",
       "       [-0.05796761],\n",
       "       [-0.0005303 ],\n",
       "       [-0.06352945],\n",
       "       [-0.0120667 ],\n",
       "       [-0.27148788]])"
      ]
     },
     "execution_count": 48,
     "metadata": {},
     "output_type": "execute_result"
    }
   ],
   "source": [
    "new_theta"
   ]
  },
  {
   "cell_type": "code",
   "execution_count": 49,
   "metadata": {},
   "outputs": [
    {
     "data": {
      "text/plain": [
       "array([ 0.6482157])"
      ]
     },
     "execution_count": 49,
     "metadata": {},
     "output_type": "execute_result"
    }
   ],
   "source": [
    "costFunctionReg(new_theta,mappedX,y,10)"
   ]
  },
  {
   "cell_type": "markdown",
   "metadata": {},
   "source": [
    "## Decision Boundaries"
   ]
  },
  {
   "cell_type": "code",
   "execution_count": 50,
   "metadata": {
    "collapsed": true
   },
   "outputs": [],
   "source": [
    "# This handy funcation has been taken from GitHub User kaleko and his notebook https://github.com/kaleko/CourseraML/blob/master/ex2/ex2.ipynb\n",
    "def plotBoundary(mytheta, myX, myy, mylambda=0.):\n",
    "    \"\"\"\n",
    "    Function to plot the decision boundary for arbitrary theta, X, y, lambda value\n",
    "    Inside of this function is feature mapping, and the minimization routine.\n",
    "    It works by making a grid of x1 (\"xvals\") and x2 (\"yvals\") points,\n",
    "    And for each, computing whether the hypothesis classifies that point as\n",
    "    True or False. Then, a contour is drawn with a built-in pyplot function.\n",
    "    \"\"\"\n",
    "    theta = minimizeThetaReg(mytheta,myX,myy,mylambda,400)\n",
    "    xvals = np.linspace(-1,1.5,50)\n",
    "    yvals = np.linspace(-1,1.5,50)\n",
    "    zvals = np.zeros((len(xvals),len(yvals)))\n",
    "    for i in range(len(xvals)):\n",
    "        for j in range(len(yvals)):\n",
    "            myfeaturesij = mapFeature(np.array([xvals[i]]),np.array([yvals[j]]))\n",
    "            zvals[i][j] = np.dot(myfeaturesij,theta)\n",
    "    zvals = zvals.transpose()\n",
    "\n",
    "    u, v = np.meshgrid( xvals, yvals )\n",
    "    mycontour = plt.contour( xvals, yvals, zvals, [0])\n",
    "    #Kind of a hacky way to display a text on top of the decision boundary\n",
    "    myfmt = { 0:'Lambda = %d'%mylambda}\n",
    "    plt.clabel(mycontour, inline=1, fontsize=15, fmt=myfmt)\n",
    "    plt.title(\"Decision Boundary\")"
   ]
  },
  {
   "cell_type": "markdown",
   "metadata": {},
   "source": [
    "#### As we can see, a value of lambda = 0 leads to heavy overfitting of our data while a value of lambda = 100 leads to underfitting."
   ]
  },
  {
   "cell_type": "code",
   "execution_count": 51,
   "metadata": {},
   "outputs": [
    {
     "data": {
      "image/png": "[encoded data removed]",
      "text/plain": [
       "<matplotlib.figure.Figure at 0x1148a01d0>"
      ]
     },
     "metadata": {},
     "output_type": "display_data"
    }
   ],
   "source": [
    "plt.figure(figsize=(12,10))\n",
    "plt.subplot(221)\n",
    "plotData2()\n",
    "plotBoundary(test_theta,mappedX,y,0.)\n",
    "\n",
    "plt.subplot(222)\n",
    "plotData2()\n",
    "plotBoundary(test_theta,mappedX,y,1.)\n",
    "\n",
    "plt.subplot(223)\n",
    "plotData2()\n",
    "plotBoundary(test_theta,mappedX,y,10.)\n",
    "\n",
    "plt.subplot(224)\n",
    "plotData2()\n",
    "plotBoundary(test_theta,mappedX,y,100.)"
   ]
  },
  {
   "cell_type": "code",
   "execution_count": null,
   "metadata": {
    "collapsed": true
   },
   "outputs": [],
   "source": []
  }
 ],
 "metadata": {
  "kernelspec": {
   "display_name": "Python 3",
   "language": "python",
   "name": "python3"
  },
  "language_info": {
   "codemirror_mode": {
    "name": "ipython",
    "version": 3
   },
   "file_extension": ".py",
   "mimetype": "text/x-python",
   "name": "python",
   "nbconvert_exporter": "python",
   "pygments_lexer": "ipython3",
   "version": "3.6.2"
  }
 },
 "nbformat": 4,
 "nbformat_minor": 2
}
